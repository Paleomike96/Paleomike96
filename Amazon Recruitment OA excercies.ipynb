{
 "cells": [
  {
   "cell_type": "markdown",
   "metadata": {},
   "source": [
    "AQUÍ ESCRIBIMOS LOS BASICOS DE PYTHON"
   ]
  },
  {
   "cell_type": "code",
   "execution_count": 16,
   "metadata": {},
   "outputs": [
    {
     "name": "stdout",
     "output_type": "stream",
     "text": [
      "Not weird\n"
     ]
    }
   ],
   "source": [
    "#El problema se resuelve a modo de calculadora, con un input particular\n",
    "def evaluar_numero():\n",
    "    while True:\n",
    "        n = int(input(\"Type a number between 1 and 100: \"))\n",
    "        if 1 <= n <= 100:\n",
    "            break\n",
    "        else:\n",
    "            print(\"Number out of range. Please, introduce a correct number.\")\n",
    "\n",
    "    # Los condicionales requeridos\n",
    "    if n % 2 != 0:\n",
    "        print(\"Weird\")\n",
    "    elif n % 2 == 0 and 2 <= n <= 5:\n",
    "        print(\"Not weird\")\n",
    "    elif n % 2 == 0 and 6 <= n <= 20:\n",
    "        print(\"Weird\")\n",
    "    elif n % 2 == 0 and n > 20:\n",
    "        print(\"Not weird\")\n",
    "\n",
    "# Llamada a la función con n=24\n",
    "evaluar_numero()\n"
   ]
  },
  {
   "cell_type": "code",
   "execution_count": 18,
   "metadata": {},
   "outputs": [
    {
     "name": "stdout",
     "output_type": "stream",
     "text": [
      "Weird\n"
     ]
    }
   ],
   "source": [
    "#Así lo resolví con ChatGPT y lo pide HackedRank, considerando que mete en automático el 3 y el 24\n",
    "def evaluate_number(n): #Aquí definimos una función y establecemos sus condicionales\n",
    "    if n % 2 != 0:\n",
    "        print(\"Weird\")\n",
    "    elif n % 2 == 0 and 2 <= n <= 5:\n",
    "        print(\"Not Weird\")\n",
    "    elif n % 2 == 0 and 6 <= n <= 20:\n",
    "        print(\"Weird\")\n",
    "    elif n % 2 == 0 and n > 20:\n",
    "        print(\"Not Weird\")\n",
    "\n",
    "if __name__ == '__main__': #Aquí aplicamos los casos, en este caso n=3 \n",
    "    n = int(input().strip())  \n",
    "    evaluate_number(n)"
   ]
  },
  {
   "cell_type": "markdown",
   "metadata": {},
   "source": [
    "AQUÍ ESCRIBIMOS LO DE **ALGORITMOS**"
   ]
  },
  {
   "cell_type": "code",
   "execution_count": 21,
   "metadata": {},
   "outputs": [
    {
     "name": "stdout",
     "output_type": "stream",
     "text": [
      "10\n"
     ]
    }
   ],
   "source": [
    "def solveMeFirst(a, b): #Que pendejo, literal el type below es TYPE BELOW\n",
    "    # Hint: Type return a+b below\n",
    "    return a + b\n",
    "\n",
    "num1 = int(input())\n",
    "num2 = int(input())\n",
    "res = solveMeFirst(num1, num2)\n",
    "print(res)"
   ]
  },
  {
   "cell_type": "code",
   "execution_count": 40,
   "metadata": {},
   "outputs": [],
   "source": [
    "\n",
    "import os #Este código no corre aquí, pero si en HackedRank\n",
    "\n",
    "#def simpleArraySum(ar): \n",
    "    #return sum(ar)\n",
    "\n",
    "#if __name__ == '__main__':\n",
    " #   fptr = open(os.environ['OUTPUT_PATH'], 'w')\n",
    "\n",
    "  #  ar_count = int(input().strip())\n",
    "\n",
    "   # ar = list(map(int, input().rstrip().split()))\n",
    "\n",
    "    #result = simpleArraySum(ar)\n",
    "\n",
    "#    fptr.write(str(result) + '\\n')\n",
    "\n",
    " #   fptr.close()"
   ]
  },
  {
   "cell_type": "markdown",
   "metadata": {},
   "source": [
    "Lo que debes notar aquí es el uso de sumar todos los elementos de tu array con ***sum(ar)***"
   ]
  },
  {
   "cell_type": "markdown",
   "metadata": {},
   "source": [
    "AQUÍ ESCRIBIMOS LO DE **ESTRUCTURA DE DATOS**"
   ]
  },
  {
   "cell_type": "code",
   "execution_count": 42,
   "metadata": {},
   "outputs": [],
   "source": [
    "import os #igual el código no carga aquí pero si en HackedRank\n",
    "#def reverseArray(a):\n",
    " #   a.reverse()\n",
    "  #  return a\n",
    "\n",
    "#if __name__ == '__main__':\n",
    " #   fptr = open(os.environ['OUTPUT_PATH'], 'w')\n",
    "\n",
    "  #  arr_count = int(input().strip())\n",
    "\n",
    "   # arr = list(map(int, input().rstrip().split()))\n",
    "\n",
    "    #res = reverseArray(arr)\n",
    "\n",
    "    #fptr.write(' '.join(map(str, res)))\n",
    "    #fptr.write('\\n')\n",
    "\n",
    "#    fptr.close()"
   ]
  },
  {
   "cell_type": "markdown",
   "metadata": {},
   "source": [
    "Nota que primero es escribir que arreglo vamos a usar, en este caso ***a***, luego aplicar la función ***.reverse()*** y finalmente ***return a*** ya con la función aplicada"
   ]
  }
 ],
 "metadata": {
  "kernelspec": {
   "display_name": "Python 3",
   "language": "python",
   "name": "python3"
  },
  "language_info": {
   "codemirror_mode": {
    "name": "ipython",
    "version": 3
   },
   "file_extension": ".py",
   "mimetype": "text/x-python",
   "name": "python",
   "nbconvert_exporter": "python",
   "pygments_lexer": "ipython3",
   "version": "3.10.11"
  }
 },
 "nbformat": 4,
 "nbformat_minor": 2
}
